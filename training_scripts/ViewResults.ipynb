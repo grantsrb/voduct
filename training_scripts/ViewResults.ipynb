{
 "cells": [
  {
   "cell_type": "code",
   "execution_count": 1,
   "metadata": {},
   "outputs": [
    {
     "name": "stderr",
     "output_type": "stream",
     "text": [
      "Using TensorFlow backend.\n"
     ]
    }
   ],
   "source": [
    "import torch\n",
    "import numpy as np\n",
    "import voduct as vo\n",
    "import tokenizer as tk\n",
    "import os\n",
    "import matplotlib.pyplot as plt"
   ]
  },
  {
   "cell_type": "code",
   "execution_count": 2,
   "metadata": {},
   "outputs": [],
   "source": [
    "main_folder = \"splitdigs\"\n",
    "folders = vo.save_io.get_model_folders(main_folder)\n",
    "folders = [os.path.join(main_folder,f) for f in folders]"
   ]
  },
  {
   "cell_type": "code",
   "execution_count": 3,
   "metadata": {},
   "outputs": [
    {
     "name": "stdout",
     "output_type": "stream",
     "text": [
      "splitdigs/splitdigs_6_lr0.0005\n"
     ]
    }
   ],
   "source": [
    "model_folder = folders[-1]\n",
    "print(model_folder)"
   ]
  },
  {
   "cell_type": "code",
   "execution_count": 4,
   "metadata": {},
   "outputs": [
    {
     "name": "stdout",
     "output_type": "stream",
     "text": [
      "splitdigs/splitdigs_6_lr0.0005\n"
     ]
    }
   ],
   "source": [
    "model = vo.save_io.load_model(model_folder)"
   ]
  },
  {
   "cell_type": "code",
   "execution_count": 5,
   "metadata": {},
   "outputs": [
    {
     "name": "stdout",
     "output_type": "stream",
     "text": [
      "splitdigs/splitdigs_6_lr0.0005\n"
     ]
    },
    {
     "data": {
      "text/plain": [
       "<All keys matched successfully>"
      ]
     },
     "execution_count": 5,
     "metadata": {},
     "output_type": "execute_result"
    }
   ],
   "source": [
    "checkpt = vo.save_io.load_checkpoint(model_folder)\n",
    "model.load_state_dict(checkpt['state_dict'])"
   ]
  },
  {
   "cell_type": "code",
   "execution_count": 6,
   "metadata": {},
   "outputs": [
    {
     "data": {
      "text/plain": [
       "Transformer(\n",
       "  (embeddings): Embedding(49, 512)\n",
       "  (encoder): Encoder(\n",
       "    (pos_encoding): PositionalEncoder()\n",
       "    (enc_layers): ModuleList(\n",
       "      (0): EncodingBlock(\n",
       "        (norm0): LayerNorm((512,), eps=1e-05, elementwise_affine=True)\n",
       "        (multi_attn): MultiHeadAttention(\n",
       "          (outs): Linear(in_features=384, out_features=512, bias=True)\n",
       "        )\n",
       "        (norm1): LayerNorm((512,), eps=1e-05, elementwise_affine=True)\n",
       "        (fwd_net): Sequential(\n",
       "          (0): Linear(in_features=512, out_features=512, bias=True)\n",
       "          (1): ReLU()\n",
       "          (2): Linear(in_features=512, out_features=512, bias=True)\n",
       "        )\n",
       "        (norm2): LayerNorm((512,), eps=1e-05, elementwise_affine=True)\n",
       "      )\n",
       "      (1): EncodingBlock(\n",
       "        (norm0): LayerNorm((512,), eps=1e-05, elementwise_affine=True)\n",
       "        (multi_attn): MultiHeadAttention(\n",
       "          (outs): Linear(in_features=384, out_features=512, bias=True)\n",
       "        )\n",
       "        (norm1): LayerNorm((512,), eps=1e-05, elementwise_affine=True)\n",
       "        (fwd_net): Sequential(\n",
       "          (0): Linear(in_features=512, out_features=512, bias=True)\n",
       "          (1): ReLU()\n",
       "          (2): Linear(in_features=512, out_features=512, bias=True)\n",
       "        )\n",
       "        (norm2): LayerNorm((512,), eps=1e-05, elementwise_affine=True)\n",
       "      )\n",
       "      (2): EncodingBlock(\n",
       "        (norm0): LayerNorm((512,), eps=1e-05, elementwise_affine=True)\n",
       "        (multi_attn): MultiHeadAttention(\n",
       "          (outs): Linear(in_features=384, out_features=512, bias=True)\n",
       "        )\n",
       "        (norm1): LayerNorm((512,), eps=1e-05, elementwise_affine=True)\n",
       "        (fwd_net): Sequential(\n",
       "          (0): Linear(in_features=512, out_features=512, bias=True)\n",
       "          (1): ReLU()\n",
       "          (2): Linear(in_features=512, out_features=512, bias=True)\n",
       "        )\n",
       "        (norm2): LayerNorm((512,), eps=1e-05, elementwise_affine=True)\n",
       "      )\n",
       "      (3): EncodingBlock(\n",
       "        (norm0): LayerNorm((512,), eps=1e-05, elementwise_affine=True)\n",
       "        (multi_attn): MultiHeadAttention(\n",
       "          (outs): Linear(in_features=384, out_features=512, bias=True)\n",
       "        )\n",
       "        (norm1): LayerNorm((512,), eps=1e-05, elementwise_affine=True)\n",
       "        (fwd_net): Sequential(\n",
       "          (0): Linear(in_features=512, out_features=512, bias=True)\n",
       "          (1): ReLU()\n",
       "          (2): Linear(in_features=512, out_features=512, bias=True)\n",
       "        )\n",
       "        (norm2): LayerNorm((512,), eps=1e-05, elementwise_affine=True)\n",
       "      )\n",
       "    )\n",
       "  )\n",
       "  (decoder): Decoder(\n",
       "    (pos_encoding): PositionalEncoder()\n",
       "    (dec_layers): ModuleList(\n",
       "      (0): DecodingBlock(\n",
       "        (norm0): LayerNorm((512,), eps=1e-05, elementwise_affine=True)\n",
       "        (multi_attn1): MultiHeadAttention(\n",
       "          (outs): Linear(in_features=384, out_features=512, bias=True)\n",
       "        )\n",
       "        (norm1): LayerNorm((512,), eps=1e-05, elementwise_affine=True)\n",
       "        (multi_attn2): MultiHeadAttention(\n",
       "          (outs): Linear(in_features=384, out_features=512, bias=True)\n",
       "        )\n",
       "        (norm2): LayerNorm((512,), eps=1e-05, elementwise_affine=True)\n",
       "        (fwd_net): Sequential(\n",
       "          (0): Linear(in_features=512, out_features=512, bias=True)\n",
       "          (1): ReLU()\n",
       "          (2): Linear(in_features=512, out_features=512, bias=True)\n",
       "        )\n",
       "        (norm3): LayerNorm((512,), eps=1e-05, elementwise_affine=True)\n",
       "      )\n",
       "      (1): DecodingBlock(\n",
       "        (norm0): LayerNorm((512,), eps=1e-05, elementwise_affine=True)\n",
       "        (multi_attn1): MultiHeadAttention(\n",
       "          (outs): Linear(in_features=384, out_features=512, bias=True)\n",
       "        )\n",
       "        (norm1): LayerNorm((512,), eps=1e-05, elementwise_affine=True)\n",
       "        (multi_attn2): MultiHeadAttention(\n",
       "          (outs): Linear(in_features=384, out_features=512, bias=True)\n",
       "        )\n",
       "        (norm2): LayerNorm((512,), eps=1e-05, elementwise_affine=True)\n",
       "        (fwd_net): Sequential(\n",
       "          (0): Linear(in_features=512, out_features=512, bias=True)\n",
       "          (1): ReLU()\n",
       "          (2): Linear(in_features=512, out_features=512, bias=True)\n",
       "        )\n",
       "        (norm3): LayerNorm((512,), eps=1e-05, elementwise_affine=True)\n",
       "      )\n",
       "      (2): DecodingBlock(\n",
       "        (norm0): LayerNorm((512,), eps=1e-05, elementwise_affine=True)\n",
       "        (multi_attn1): MultiHeadAttention(\n",
       "          (outs): Linear(in_features=384, out_features=512, bias=True)\n",
       "        )\n",
       "        (norm1): LayerNorm((512,), eps=1e-05, elementwise_affine=True)\n",
       "        (multi_attn2): MultiHeadAttention(\n",
       "          (outs): Linear(in_features=384, out_features=512, bias=True)\n",
       "        )\n",
       "        (norm2): LayerNorm((512,), eps=1e-05, elementwise_affine=True)\n",
       "        (fwd_net): Sequential(\n",
       "          (0): Linear(in_features=512, out_features=512, bias=True)\n",
       "          (1): ReLU()\n",
       "          (2): Linear(in_features=512, out_features=512, bias=True)\n",
       "        )\n",
       "        (norm3): LayerNorm((512,), eps=1e-05, elementwise_affine=True)\n",
       "      )\n",
       "      (3): DecodingBlock(\n",
       "        (norm0): LayerNorm((512,), eps=1e-05, elementwise_affine=True)\n",
       "        (multi_attn1): MultiHeadAttention(\n",
       "          (outs): Linear(in_features=384, out_features=512, bias=True)\n",
       "        )\n",
       "        (norm1): LayerNorm((512,), eps=1e-05, elementwise_affine=True)\n",
       "        (multi_attn2): MultiHeadAttention(\n",
       "          (outs): Linear(in_features=384, out_features=512, bias=True)\n",
       "        )\n",
       "        (norm2): LayerNorm((512,), eps=1e-05, elementwise_affine=True)\n",
       "        (fwd_net): Sequential(\n",
       "          (0): Linear(in_features=512, out_features=512, bias=True)\n",
       "          (1): ReLU()\n",
       "          (2): Linear(in_features=512, out_features=512, bias=True)\n",
       "        )\n",
       "        (norm3): LayerNorm((512,), eps=1e-05, elementwise_affine=True)\n",
       "      )\n",
       "    )\n",
       "  )\n",
       "  (classifier): Classifier(\n",
       "    (classifier): Sequential(\n",
       "      (0): Linear(in_features=512, out_features=1000, bias=True)\n",
       "      (1): BatchNorm1d(1000, eps=1e-05, momentum=0.1, affine=True, track_running_stats=True)\n",
       "      (2): Dropout(p=0, inplace=False)\n",
       "      (3): ReLU()\n",
       "      (4): Linear(in_features=1000, out_features=1000, bias=True)\n",
       "      (5): BatchNorm1d(1000, eps=1e-05, momentum=0.1, affine=True, track_running_stats=True)\n",
       "      (6): Dropout(p=0, inplace=False)\n",
       "      (7): ReLU()\n",
       "      (8): Linear(in_features=1000, out_features=49, bias=True)\n",
       "    )\n",
       "  )\n",
       "  (enc_dropout): Dropout(p=0, inplace=False)\n",
       "  (dec_dropout): Dropout(p=0, inplace=False)\n",
       ")"
      ]
     },
     "execution_count": 6,
     "metadata": {},
     "output_type": "execute_result"
    }
   ],
   "source": [
    "model.eval()"
   ]
  },
  {
   "cell_type": "code",
   "execution_count": 7,
   "metadata": {},
   "outputs": [],
   "source": [
    "word2idx = checkpt['word2idx']\n",
    "idx2word = checkpt['idx2word']"
   ]
  },
  {
   "cell_type": "code",
   "execution_count": 8,
   "metadata": {},
   "outputs": [
    {
     "name": "stdout",
     "output_type": "stream",
     "text": [
      "X len: 144\n",
      "Y len: 9\n"
     ]
    }
   ],
   "source": [
    "seq_len_x = model.encoder.seq_len\n",
    "print(\"X len:\", seq_len_x)\n",
    "seq_len_y = model.decoder.seq_len\n",
    "print(\"Y len:\", seq_len_y)\n",
    "\n",
    "tokenizer = vo.datas.Tokenizer(word2idx=word2idx, idx2word=idx2word, \n",
    "                                                       split_digits=checkpt['hyps']['split_digits']==True,\n",
    "                                                       seq_len_x=seq_len_x,\n",
    "                                                       seq_len_y=seq_len_y,\n",
    "                                                       prepend=False,\n",
    "                                                       append=False\n",
    "                                                       )"
   ]
  },
  {
   "cell_type": "markdown",
   "metadata": {},
   "source": [
    "## Evaluation"
   ]
  },
  {
   "cell_type": "code",
   "execution_count": 9,
   "metadata": {},
   "outputs": [],
   "source": [
    "# wp = vo.datas.WordProblems(difficulty=\"easy\", split_digits=True)\n",
    "# X = tokenizer.index_tokens(wp.token_qs, seq_len_x, prepend=True,append=True)\n",
    "# Y = tokenizer.index_tokens(wp.token_ans, seq_len_y, prepend=True,append=True)"
   ]
  },
  {
   "cell_type": "code",
   "execution_count": 22,
   "metadata": {},
   "outputs": [],
   "source": [
    "questions = [\"21 red box objects start at the starting point. you move 5 red box objects from the starting point to the goal. how many red objects are at the starting point?\"]\n",
    "answers = [\"1111 red objects\"]"
   ]
  },
  {
   "cell_type": "code",
   "execution_count": 23,
   "metadata": {},
   "outputs": [
    {
     "name": "stdout",
     "output_type": "stream",
     "text": [
      "0 %    \r",
      "0 %    \r"
     ]
    }
   ],
   "source": [
    "toks_x = tk.tokenize(questions[0], split_digits=checkpt['hyps']['split_digits']==True)\n",
    "X = tokenizer.index_tokens([toks_x], seq_len_x, prepend=True,append=True)\n",
    "toks_y = tk.tokenize(answers[0], split_digits=checkpt['hyps']['split_digits']==True)\n",
    "Y = tokenizer.index_tokens([toks_y], seq_len_y, prepend=True,append=True)"
   ]
  },
  {
   "cell_type": "code",
   "execution_count": 24,
   "metadata": {},
   "outputs": [
    {
     "name": "stdout",
     "output_type": "stream",
     "text": [
      "['<START>', '2', '1', 'red', 'box', 'objects', 'start', 'at', 'the', 'starting', 'point', '.', 'you', 'move', '5', 'red', 'box', 'objects', 'from', 'the', 'starting', 'point', 'to', 'the', 'goal', '.', 'how', 'many', 'red', 'objects', 'are', 'at', 'the', 'starting', 'point', '?', '<STOP>', '<MASK>', '<MASK>', '<MASK>', '<MASK>', '<MASK>', '<MASK>', '<MASK>', '<MASK>', '<MASK>', '<MASK>', '<MASK>', '<MASK>', '<MASK>', '<MASK>', '<MASK>', '<MASK>', '<MASK>', '<MASK>', '<MASK>', '<MASK>', '<MASK>', '<MASK>', '<MASK>', '<MASK>', '<MASK>', '<MASK>', '<MASK>', '<MASK>', '<MASK>', '<MASK>', '<MASK>', '<MASK>', '<MASK>', '<MASK>', '<MASK>', '<MASK>', '<MASK>', '<MASK>', '<MASK>', '<MASK>', '<MASK>', '<MASK>', '<MASK>', '<MASK>', '<MASK>', '<MASK>', '<MASK>', '<MASK>', '<MASK>', '<MASK>', '<MASK>', '<MASK>', '<MASK>', '<MASK>', '<MASK>', '<MASK>', '<MASK>', '<MASK>', '<MASK>', '<MASK>', '<MASK>', '<MASK>', '<MASK>', '<MASK>', '<MASK>', '<MASK>', '<MASK>', '<MASK>', '<MASK>', '<MASK>', '<MASK>', '<MASK>', '<MASK>', '<MASK>', '<MASK>', '<MASK>', '<MASK>', '<MASK>', '<MASK>', '<MASK>', '<MASK>', '<MASK>', '<MASK>', '<MASK>', '<MASK>', '<MASK>', '<MASK>', '<MASK>', '<MASK>', '<MASK>', '<MASK>', '<MASK>', '<MASK>', '<MASK>', '<MASK>', '<MASK>', '<MASK>', '<MASK>', '<MASK>', '<MASK>', '<MASK>', '<MASK>', '<MASK>', '<MASK>', '<MASK>', '<MASK>', '<MASK>']\n"
     ]
    }
   ],
   "source": [
    "print([idx2word[a.item()] for a in X[0]])"
   ]
  },
  {
   "cell_type": "code",
   "execution_count": 25,
   "metadata": {},
   "outputs": [
    {
     "name": "stdout",
     "output_type": "stream",
     "text": [
      "['<START>', '1', '1', '1', '1', 'red', 'objects', '<STOP>', '<MASK>']\n"
     ]
    }
   ],
   "source": [
    "print([idx2word[a.item()] for a in Y[0]])"
   ]
  },
  {
   "cell_type": "code",
   "execution_count": 26,
   "metadata": {},
   "outputs": [
    {
     "name": "stdout",
     "output_type": "stream",
     "text": [
      "['0', '0', 'objects', 'objects', 'objects', 'objects', '<STOP>', '<MASK>', '2']\n"
     ]
    }
   ],
   "source": [
    "preds = model(X[:3], Y[:3])\n",
    "preds = torch.argmax(preds,dim=-1)\n",
    "print([idx2word[a.item()] for a in preds[0]])"
   ]
  },
  {
   "cell_type": "code",
   "execution_count": 27,
   "metadata": {},
   "outputs": [
    {
     "name": "stdout",
     "output_type": "stream",
     "text": [
      "['objects', 'objects', 'objects', 'objects', 'objects', 'objects', 'objects', 'objects']\n",
      "['<STOP>', 'objects', 'objects', 'objects', 'objects', 'objects', 'objects', 'objects']\n",
      "['<MASK>', '<STOP>', '<MASK>', '<MASK>', '<MASK>', '<MASK>', '<MASK>', 'objects']\n",
      "['objects', '<MASK>', 'objects', '<MASK>', '<MASK>', '<MASK>', '<MASK>', 'objects']\n",
      "['<STOP>', 'objects', '<STOP>', 'objects', 'objects', 'objects', 'objects', 'objects']\n",
      "['<MASK>', '<STOP>', '<MASK>', '<STOP>', '<STOP>', '<MASK>', '<MASK>', 'objects']\n",
      "['objects', '<MASK>', 'objects', '<MASK>', '<MASK>', '<MASK>', '<MASK>', '<MASK>']\n",
      "['<STOP>', 'objects', '<STOP>', 'objects', 'objects', 'objects', 'objects', 'objects']\n"
     ]
    }
   ],
   "source": [
    "with torch.no_grad():\n",
    "    preds = Y[:3].clone()\n",
    "    for i in range(Y.shape[-1]-1):\n",
    "        \n",
    "        preds[:,0] = Y[:3,0]\n",
    "        temp = preds.data.clone()\n",
    "        temp[:,i+1:] = 0\n",
    "        preds = model(X[:3], temp)\n",
    "        preds = torch.argmax(preds,dim=-1)\n",
    "        print([idx2word[a.item()] for a in preds[0,1:]])"
   ]
  },
  {
   "cell_type": "code",
   "execution_count": 22,
   "metadata": {},
   "outputs": [
    {
     "data": {
      "text/plain": [
       "torch.Size([3, 8, 49])"
      ]
     },
     "execution_count": 22,
     "metadata": {},
     "output_type": "execute_result"
    }
   ],
   "source": [
    "preds.shape"
   ]
  },
  {
   "cell_type": "code",
   "execution_count": 23,
   "metadata": {},
   "outputs": [
    {
     "name": "stdout",
     "output_type": "stream",
     "text": [
      "['7', '3', 'green', 'cylinder', 'objects', '<STOP>', '<MASK>', '8']\n"
     ]
    }
   ],
   "source": [
    "ans = torch.argmax(preds[0],dim=-1)\n",
    "print([idx2word[a.item()] for a in ans])"
   ]
  },
  {
   "cell_type": "code",
   "execution_count": null,
   "metadata": {},
   "outputs": [],
   "source": []
  },
  {
   "cell_type": "code",
   "execution_count": null,
   "metadata": {},
   "outputs": [],
   "source": []
  },
  {
   "cell_type": "code",
   "execution_count": null,
   "metadata": {},
   "outputs": [],
   "source": []
  },
  {
   "cell_type": "code",
   "execution_count": 38,
   "metadata": {},
   "outputs": [
    {
     "ename": "NameError",
     "evalue": "name 'idxs' is not defined",
     "output_type": "error",
     "traceback": [
      "\u001b[0;31m---------------------------------------------------------------------------\u001b[0m",
      "\u001b[0;31mNameError\u001b[0m                                 Traceback (most recent call last)",
      "\u001b[0;32m<ipython-input-38-0cbfbcc56a9b>\u001b[0m in \u001b[0;36m<module>\u001b[0;34m\u001b[0m\n\u001b[0;32m----> 1\u001b[0;31m \u001b[0;32mfor\u001b[0m \u001b[0ml\u001b[0m \u001b[0;32min\u001b[0m \u001b[0midxs\u001b[0m\u001b[0;34m:\u001b[0m\u001b[0;34m\u001b[0m\u001b[0;34m\u001b[0m\u001b[0m\n\u001b[0m\u001b[1;32m      2\u001b[0m     \u001b[0;32mif\u001b[0m \u001b[0mlen\u001b[0m\u001b[0;34m(\u001b[0m\u001b[0ml\u001b[0m\u001b[0;34m)\u001b[0m \u001b[0;34m<\u001b[0m \u001b[0;36m30\u001b[0m\u001b[0;34m:\u001b[0m \u001b[0ml\u001b[0m \u001b[0;34m=\u001b[0m \u001b[0ml\u001b[0m\u001b[0;34m+\u001b[0m\u001b[0;34m[\u001b[0m\u001b[0;36m0\u001b[0m \u001b[0;32mfor\u001b[0m \u001b[0mi\u001b[0m \u001b[0;32min\u001b[0m \u001b[0mrange\u001b[0m\u001b[0;34m(\u001b[0m\u001b[0;36m30\u001b[0m\u001b[0;34m-\u001b[0m\u001b[0mlen\u001b[0m\u001b[0;34m(\u001b[0m\u001b[0ml\u001b[0m\u001b[0;34m)\u001b[0m\u001b[0;34m)\u001b[0m\u001b[0;34m]\u001b[0m\u001b[0;34m\u001b[0m\u001b[0;34m\u001b[0m\u001b[0m\n\u001b[1;32m      3\u001b[0m     \u001b[0mlong\u001b[0m \u001b[0;34m=\u001b[0m \u001b[0mtorch\u001b[0m\u001b[0;34m.\u001b[0m\u001b[0mLongTensor\u001b[0m\u001b[0;34m(\u001b[0m\u001b[0ml\u001b[0m\u001b[0;34m)\u001b[0m\u001b[0;34m[\u001b[0m\u001b[0;32mNone\u001b[0m\u001b[0;34m]\u001b[0m\u001b[0;34m\u001b[0m\u001b[0;34m\u001b[0m\u001b[0m\n\u001b[1;32m      4\u001b[0m     \u001b[0;32mwith\u001b[0m \u001b[0mtorch\u001b[0m\u001b[0;34m.\u001b[0m\u001b[0mno_grad\u001b[0m\u001b[0;34m(\u001b[0m\u001b[0;34m)\u001b[0m\u001b[0;34m:\u001b[0m\u001b[0;34m\u001b[0m\u001b[0;34m\u001b[0m\u001b[0m\n\u001b[1;32m      5\u001b[0m         \u001b[0mx\u001b[0m \u001b[0;34m=\u001b[0m \u001b[0mlong\u001b[0m\u001b[0;34m.\u001b[0m\u001b[0mcuda\u001b[0m\u001b[0;34m(\u001b[0m\u001b[0;34m)\u001b[0m\u001b[0;34m\u001b[0m\u001b[0;34m\u001b[0m\u001b[0m\n",
      "\u001b[0;31mNameError\u001b[0m: name 'idxs' is not defined"
     ]
    }
   ],
   "source": [
    "for l in idxs:\n",
    "    if len(l) < 30: l = l+[0 for i in range(30-len(l))]\n",
    "    long = torch.LongTensor(l)[None]\n",
    "    with torch.no_grad():\n",
    "        x = long.cuda()\n",
    "        preds = model(x,x).data.cpu().squeeze()\n",
    "    preds = torch.argmax(preds,dim=-1)\n",
    "    words = []\n",
    "    for p in preds:\n",
    "        words.append(idx2word[p.item()])\n",
    "    print(\" \".join(words))\n",
    "    print()\n",
    "    "
   ]
  },
  {
   "cell_type": "code",
   "execution_count": 13,
   "metadata": {},
   "outputs": [],
   "source": [
    "outputs = []\n",
    "def hook(module,inp,out):\n",
    "    outputs.append(out.detach().cpu())\n",
    "hook = model.collapser.register_forward_hook(hook)"
   ]
  },
  {
   "cell_type": "code",
   "execution_count": 15,
   "metadata": {},
   "outputs": [],
   "source": [
    "for l in idxs:\n",
    "    if len(l) < 30: l = l+[0 for i in range(30-len(l))]\n",
    "    long = torch.LongTensor(l)[None]\n",
    "    with torch.no_grad():\n",
    "        x = long.cuda()\n",
    "        preds = model(x,x).data.cpu().squeeze()\n",
    "    "
   ]
  },
  {
   "cell_type": "code",
   "execution_count": 27,
   "metadata": {},
   "outputs": [],
   "source": [
    "avg_mag = (torch.sqrt((model.embeddings.weight.mean(0)**2).sum())/512).item()"
   ]
  },
  {
   "cell_type": "code",
   "execution_count": 29,
   "metadata": {},
   "outputs": [
    {
     "name": "stdout",
     "output_type": "stream",
     "text": [
      "Raw: 6.536159844472422e-07\n",
      "percent: tensor(0.1645, device='cuda:0', grad_fn=<MulBackward0>)\n"
     ]
    }
   ],
   "source": [
    "raw = torch.sqrt(((outputs[0]-outputs[1])**2).sum())/len(outputs[0])\n",
    "raw = raw.item()\n",
    "print(\"Raw:\", raw)\n",
    "print(\"percent:\", raw/avg_mag*100)"
   ]
  },
  {
   "cell_type": "code",
   "execution_count": 31,
   "metadata": {},
   "outputs": [
    {
     "name": "stdout",
     "output_type": "stream",
     "text": [
      "Raw: 6.158345513540553e-07\n",
      "percent: tensor(0.1550, device='cuda:0', grad_fn=<MulBackward0>)\n"
     ]
    }
   ],
   "source": [
    "raw = torch.sqrt(((outputs[2]-outputs[0])**2).sum())/len(outputs[0])\n",
    "raw = raw.item()\n",
    "print(\"Raw:\", raw)\n",
    "print(\"percent:\", raw/avg_mag*100)"
   ]
  },
  {
   "cell_type": "code",
   "execution_count": 32,
   "metadata": {},
   "outputs": [
    {
     "name": "stdout",
     "output_type": "stream",
     "text": [
      "Raw: 5.960464477539062e-07\n",
      "percent: tensor(0.1500, device='cuda:0', grad_fn=<MulBackward0>)\n"
     ]
    }
   ],
   "source": [
    "raw = torch.sqrt(((outputs[2]-outputs[1])**2).sum())/len(outputs[0])\n",
    "raw = raw.item()\n",
    "print(\"Raw:\", raw)\n",
    "print(\"percent:\", raw/avg_mag*100)"
   ]
  },
  {
   "cell_type": "code",
   "execution_count": 33,
   "metadata": {},
   "outputs": [],
   "source": [
    "hook.remove()"
   ]
  },
  {
   "cell_type": "code",
   "execution_count": null,
   "metadata": {},
   "outputs": [],
   "source": []
  }
 ],
 "metadata": {
  "kernelspec": {
   "display_name": "Python 3",
   "language": "python",
   "name": "python3"
  },
  "language_info": {
   "codemirror_mode": {
    "name": "ipython",
    "version": 3
   },
   "file_extension": ".py",
   "mimetype": "text/x-python",
   "name": "python",
   "nbconvert_exporter": "python",
   "pygments_lexer": "ipython3",
   "version": "3.7.4"
  }
 },
 "nbformat": 4,
 "nbformat_minor": 2
}
